{
  "nbformat": 4,
  "nbformat_minor": 0,
  "metadata": {
    "colab": {
      "name": "Sakshi Weather.ipynb",
      "provenance": [],
      "authorship_tag": "ABX9TyMvZfkEI70vhAdcINQ1uIqb",
      "include_colab_link": true
    },
    "kernelspec": {
      "name": "python3",
      "display_name": "Python 3"
    },
    "language_info": {
      "name": "python"
    }
  },
  "cells": [
    {
      "cell_type": "markdown",
      "metadata": {
        "id": "view-in-github",
        "colab_type": "text"
      },
      "source": [
        "<a href=\"https://colab.research.google.com/github/SakshiShaha/Shape_Ai_Bootcamp_Paython-and-Cyber-Security_SakshiShaha_Weather/blob/main/Sakshi_Weather.ipynb\" target=\"_parent\"><img src=\"https://colab.research.google.com/assets/colab-badge.svg\" alt=\"Open In Colab\"/></a>"
      ]
    },
    {
      "cell_type": "code",
      "metadata": {
        "colab": {
          "base_uri": "https://localhost:8080/"
        },
        "id": "sDdwzHVzfVFI",
        "outputId": "0632a19a-cf53-44ce-f359-f50f7203b748"
      },
      "source": [
        "import requests\n",
        "from datetime import datetime\n",
        "\n",
        "#Got API from openweathermap.org with mail valec91207@d4wan.com\n",
        "api_key = '88637107e8cfdf1d6abd2b9216e91aee'\n",
        "location = input(\"Enter the city name: \")\n",
        "\n",
        "complete_api_link = \"https://api.openweathermap.org/data/2.5/weather?q=\"+location+\"&appid=\"+api_key\n",
        "\n",
        "api_link = requests.get(complete_api_link)\n",
        "api_data = api_link.json()\n",
        "\n",
        "#create variables to store and display data\n",
        "temp_city = ((api_data['main']['temp']) - 273.15)\n",
        "weather_desc = api_data['weather'][0]['description']\n",
        "hmdt = api_data['main']['humidity']\n",
        "wind_spd = api_data['wind']['speed']\n",
        "date_time = datetime.now().strftime(\"%d %b %Y | %I:%M:%S %p\")\n",
        "\n",
        "#Write the output to Report Weather file\n",
        "with open(\"Report Weather Kagal.txt\",\"w\") as f:\n",
        "    f.write(\"-------------------------------------------------------------\\n\")\n",
        "    f.write(f\"Weather Stats for - {location.upper()}  || { date_time}\\n\")\n",
        "    f.write(\"-------------------------------------------------------------\\n\")\n",
        "    #Writing the data\n",
        "    f.write(\"\\nCurrent temperature is: {:.2f} deg C\".format(temp_city))\n",
        "    f.write(f\"\\nCurrent weather desc  :{weather_desc}\")\n",
        "    f.write(f\"\\nCurrent Humidity      :{hmdt}%\")\n",
        "    f.write(f\"\\nCurrent wind speed    :{wind_spd}kmph\\n\")\n",
        "    f.write(\"\\n-------------------------------------------------------------\\n\")\n",
        "\n",
        "#Close the file\n",
        "f.close()"
      ],
      "execution_count": 2,
      "outputs": [
        {
          "output_type": "stream",
          "text": [
            "Enter the city name: Kagal\n"
          ],
          "name": "stdout"
        }
      ]
    }
  ]
}